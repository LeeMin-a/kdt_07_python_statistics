{
 "cells": [
  {
   "cell_type": "code",
   "execution_count": 4,
   "id": "7a61a911-1bda-417a-87a7-8a3b1c185f69",
   "metadata": {
    "tags": []
   },
   "outputs": [
    {
     "data": {
      "text/html": [
       "<div>\n",
       "<style scoped>\n",
       "    .dataframe tbody tr th:only-of-type {\n",
       "        vertical-align: middle;\n",
       "    }\n",
       "\n",
       "    .dataframe tbody tr th {\n",
       "        vertical-align: top;\n",
       "    }\n",
       "\n",
       "    .dataframe thead th {\n",
       "        text-align: right;\n",
       "    }\n",
       "</style>\n",
       "<table border=\"1\" class=\"dataframe\">\n",
       "  <thead>\n",
       "    <tr style=\"text-align: right;\">\n",
       "      <th></th>\n",
       "      <th>0</th>\n",
       "      <th>1</th>\n",
       "      <th>2</th>\n",
       "      <th>3</th>\n",
       "      <th>4</th>\n",
       "    </tr>\n",
       "  </thead>\n",
       "  <tbody>\n",
       "    <tr>\n",
       "      <th>fixed acidity</th>\n",
       "      <td>7.4000</td>\n",
       "      <td>7.8000</td>\n",
       "      <td>7.800</td>\n",
       "      <td>11.200</td>\n",
       "      <td>7.4000</td>\n",
       "    </tr>\n",
       "    <tr>\n",
       "      <th>volatile acidity</th>\n",
       "      <td>0.7000</td>\n",
       "      <td>0.8800</td>\n",
       "      <td>0.760</td>\n",
       "      <td>0.280</td>\n",
       "      <td>0.7000</td>\n",
       "    </tr>\n",
       "    <tr>\n",
       "      <th>citric acid</th>\n",
       "      <td>0.0000</td>\n",
       "      <td>0.0000</td>\n",
       "      <td>0.040</td>\n",
       "      <td>0.560</td>\n",
       "      <td>0.0000</td>\n",
       "    </tr>\n",
       "    <tr>\n",
       "      <th>residual sugar</th>\n",
       "      <td>1.9000</td>\n",
       "      <td>2.6000</td>\n",
       "      <td>2.300</td>\n",
       "      <td>1.900</td>\n",
       "      <td>1.9000</td>\n",
       "    </tr>\n",
       "    <tr>\n",
       "      <th>chlorides</th>\n",
       "      <td>0.0760</td>\n",
       "      <td>0.0980</td>\n",
       "      <td>0.092</td>\n",
       "      <td>0.075</td>\n",
       "      <td>0.0760</td>\n",
       "    </tr>\n",
       "    <tr>\n",
       "      <th>free sulfur dioxide</th>\n",
       "      <td>11.0000</td>\n",
       "      <td>25.0000</td>\n",
       "      <td>15.000</td>\n",
       "      <td>17.000</td>\n",
       "      <td>11.0000</td>\n",
       "    </tr>\n",
       "    <tr>\n",
       "      <th>total sulfur dioxide</th>\n",
       "      <td>34.0000</td>\n",
       "      <td>67.0000</td>\n",
       "      <td>54.000</td>\n",
       "      <td>60.000</td>\n",
       "      <td>34.0000</td>\n",
       "    </tr>\n",
       "    <tr>\n",
       "      <th>density</th>\n",
       "      <td>0.9978</td>\n",
       "      <td>0.9968</td>\n",
       "      <td>0.997</td>\n",
       "      <td>0.998</td>\n",
       "      <td>0.9978</td>\n",
       "    </tr>\n",
       "    <tr>\n",
       "      <th>pH</th>\n",
       "      <td>3.5100</td>\n",
       "      <td>3.2000</td>\n",
       "      <td>3.260</td>\n",
       "      <td>3.160</td>\n",
       "      <td>3.5100</td>\n",
       "    </tr>\n",
       "    <tr>\n",
       "      <th>sulphates</th>\n",
       "      <td>0.5600</td>\n",
       "      <td>0.6800</td>\n",
       "      <td>0.650</td>\n",
       "      <td>0.580</td>\n",
       "      <td>0.5600</td>\n",
       "    </tr>\n",
       "    <tr>\n",
       "      <th>alcohol</th>\n",
       "      <td>9.4000</td>\n",
       "      <td>9.8000</td>\n",
       "      <td>9.800</td>\n",
       "      <td>9.800</td>\n",
       "      <td>9.4000</td>\n",
       "    </tr>\n",
       "    <tr>\n",
       "      <th>quality</th>\n",
       "      <td>5.0000</td>\n",
       "      <td>5.0000</td>\n",
       "      <td>5.000</td>\n",
       "      <td>6.000</td>\n",
       "      <td>5.0000</td>\n",
       "    </tr>\n",
       "  </tbody>\n",
       "</table>\n",
       "</div>"
      ],
      "text/plain": [
       "                            0        1       2       3        4\n",
       "fixed acidity          7.4000   7.8000   7.800  11.200   7.4000\n",
       "volatile acidity       0.7000   0.8800   0.760   0.280   0.7000\n",
       "citric acid            0.0000   0.0000   0.040   0.560   0.0000\n",
       "residual sugar         1.9000   2.6000   2.300   1.900   1.9000\n",
       "chlorides              0.0760   0.0980   0.092   0.075   0.0760\n",
       "free sulfur dioxide   11.0000  25.0000  15.000  17.000  11.0000\n",
       "total sulfur dioxide  34.0000  67.0000  54.000  60.000  34.0000\n",
       "density                0.9978   0.9968   0.997   0.998   0.9978\n",
       "pH                     3.5100   3.2000   3.260   3.160   3.5100\n",
       "sulphates              0.5600   0.6800   0.650   0.580   0.5600\n",
       "alcohol                9.4000   9.8000   9.800   9.800   9.4000\n",
       "quality                5.0000   5.0000   5.000   6.000   5.0000"
      ]
     },
     "metadata": {},
     "output_type": "display_data"
    },
    {
     "data": {
      "text/html": [
       "<div>\n",
       "<style scoped>\n",
       "    .dataframe tbody tr th:only-of-type {\n",
       "        vertical-align: middle;\n",
       "    }\n",
       "\n",
       "    .dataframe tbody tr th {\n",
       "        vertical-align: top;\n",
       "    }\n",
       "\n",
       "    .dataframe thead th {\n",
       "        text-align: right;\n",
       "    }\n",
       "</style>\n",
       "<table border=\"1\" class=\"dataframe\">\n",
       "  <thead>\n",
       "    <tr style=\"text-align: right;\">\n",
       "      <th></th>\n",
       "      <th>0</th>\n",
       "      <th>1</th>\n",
       "      <th>2</th>\n",
       "      <th>3</th>\n",
       "      <th>4</th>\n",
       "    </tr>\n",
       "  </thead>\n",
       "  <tbody>\n",
       "    <tr>\n",
       "      <th>fixed acidity</th>\n",
       "      <td>7.000</td>\n",
       "      <td>6.300</td>\n",
       "      <td>8.1000</td>\n",
       "      <td>7.2000</td>\n",
       "      <td>7.2000</td>\n",
       "    </tr>\n",
       "    <tr>\n",
       "      <th>volatile acidity</th>\n",
       "      <td>0.270</td>\n",
       "      <td>0.300</td>\n",
       "      <td>0.2800</td>\n",
       "      <td>0.2300</td>\n",
       "      <td>0.2300</td>\n",
       "    </tr>\n",
       "    <tr>\n",
       "      <th>citric acid</th>\n",
       "      <td>0.360</td>\n",
       "      <td>0.340</td>\n",
       "      <td>0.4000</td>\n",
       "      <td>0.3200</td>\n",
       "      <td>0.3200</td>\n",
       "    </tr>\n",
       "    <tr>\n",
       "      <th>residual sugar</th>\n",
       "      <td>20.700</td>\n",
       "      <td>1.600</td>\n",
       "      <td>6.9000</td>\n",
       "      <td>8.5000</td>\n",
       "      <td>8.5000</td>\n",
       "    </tr>\n",
       "    <tr>\n",
       "      <th>chlorides</th>\n",
       "      <td>0.045</td>\n",
       "      <td>0.049</td>\n",
       "      <td>0.0500</td>\n",
       "      <td>0.0580</td>\n",
       "      <td>0.0580</td>\n",
       "    </tr>\n",
       "    <tr>\n",
       "      <th>free sulfur dioxide</th>\n",
       "      <td>45.000</td>\n",
       "      <td>14.000</td>\n",
       "      <td>30.0000</td>\n",
       "      <td>47.0000</td>\n",
       "      <td>47.0000</td>\n",
       "    </tr>\n",
       "    <tr>\n",
       "      <th>total sulfur dioxide</th>\n",
       "      <td>170.000</td>\n",
       "      <td>132.000</td>\n",
       "      <td>97.0000</td>\n",
       "      <td>186.0000</td>\n",
       "      <td>186.0000</td>\n",
       "    </tr>\n",
       "    <tr>\n",
       "      <th>density</th>\n",
       "      <td>1.001</td>\n",
       "      <td>0.994</td>\n",
       "      <td>0.9951</td>\n",
       "      <td>0.9956</td>\n",
       "      <td>0.9956</td>\n",
       "    </tr>\n",
       "    <tr>\n",
       "      <th>pH</th>\n",
       "      <td>3.000</td>\n",
       "      <td>3.300</td>\n",
       "      <td>3.2600</td>\n",
       "      <td>3.1900</td>\n",
       "      <td>3.1900</td>\n",
       "    </tr>\n",
       "    <tr>\n",
       "      <th>sulphates</th>\n",
       "      <td>0.450</td>\n",
       "      <td>0.490</td>\n",
       "      <td>0.4400</td>\n",
       "      <td>0.4000</td>\n",
       "      <td>0.4000</td>\n",
       "    </tr>\n",
       "    <tr>\n",
       "      <th>alcohol</th>\n",
       "      <td>8.800</td>\n",
       "      <td>9.500</td>\n",
       "      <td>10.1000</td>\n",
       "      <td>9.9000</td>\n",
       "      <td>9.9000</td>\n",
       "    </tr>\n",
       "    <tr>\n",
       "      <th>quality</th>\n",
       "      <td>6.000</td>\n",
       "      <td>6.000</td>\n",
       "      <td>6.0000</td>\n",
       "      <td>6.0000</td>\n",
       "      <td>6.0000</td>\n",
       "    </tr>\n",
       "  </tbody>\n",
       "</table>\n",
       "</div>"
      ],
      "text/plain": [
       "                            0        1        2         3         4\n",
       "fixed acidity           7.000    6.300   8.1000    7.2000    7.2000\n",
       "volatile acidity        0.270    0.300   0.2800    0.2300    0.2300\n",
       "citric acid             0.360    0.340   0.4000    0.3200    0.3200\n",
       "residual sugar         20.700    1.600   6.9000    8.5000    8.5000\n",
       "chlorides               0.045    0.049   0.0500    0.0580    0.0580\n",
       "free sulfur dioxide    45.000   14.000  30.0000   47.0000   47.0000\n",
       "total sulfur dioxide  170.000  132.000  97.0000  186.0000  186.0000\n",
       "density                 1.001    0.994   0.9951    0.9956    0.9956\n",
       "pH                      3.000    3.300   3.2600    3.1900    3.1900\n",
       "sulphates               0.450    0.490   0.4400    0.4000    0.4000\n",
       "alcohol                 8.800    9.500  10.1000    9.9000    9.9000\n",
       "quality                 6.000    6.000   6.0000    6.0000    6.0000"
      ]
     },
     "metadata": {},
     "output_type": "display_data"
    }
   ],
   "source": [
    "# 아래 데이터를 사용합니다. \n",
    "import pandas as pd\n",
    "\n",
    "# Load the Wine Quality Dataset from UCI ML Repository\n",
    "url_red_wine = \"https://archive.ics.uci.edu/ml/machine-learning-databases/wine-quality/winequality-red.csv\"\n",
    "url_white_wine = \"https://archive.ics.uci.edu/ml/machine-learning-databases/wine-quality/winequality-white.csv\"\n",
    "\n",
    "red_wine_data = pd.read_csv(url_red_wine, sep=';')\n",
    "\n",
    "= pd.read_csv(url_white_wine, sep=';')\n",
    "\n",
    "display(red_wine_data.head().T)\n",
    "display(white_wine_data.head().T)"
   ]
  },
  {
   "cell_type": "markdown",
   "id": "a2fc8b87-6010-4b81-9d16-f24108fd43a2",
   "metadata": {},
   "source": [
    "# 1. one-sample t-test 검정"
   ]
  },
  {
   "cell_type": "code",
   "execution_count": 8,
   "id": "b0ffa754-6bb7-46c0-8bfc-1e9ddd41c83e",
   "metadata": {
    "tags": []
   },
   "outputs": [],
   "source": [
    "import numpy as np"
   ]
  },
  {
   "cell_type": "code",
   "execution_count": 5,
   "id": "31c25fd8-1464-4395-92ff-95d3dd3ccdc4",
   "metadata": {
    "tags": []
   },
   "outputs": [],
   "source": [
    "from scipy.stats import ttest_1samp\n",
    "import scipy.stats as stats "
   ]
  },
  {
   "cell_type": "code",
   "execution_count": 7,
   "id": "40ce6463-cb8b-46d1-97c8-237302768c2a",
   "metadata": {
    "tags": []
   },
   "outputs": [
    {
     "data": {
      "text/plain": [
       "0.2709756097560976"
      ]
     },
     "execution_count": 7,
     "metadata": {},
     "output_type": "execute_result"
    }
   ],
   "source": [
    "red_wine_data['citric acid'].mean()"
   ]
  },
  {
   "cell_type": "code",
   "execution_count": 6,
   "id": "d318985e-32a5-49c9-bdad-ee5ecb0c3d0f",
   "metadata": {
    "tags": []
   },
   "outputs": [],
   "source": [
    "# 귀무가설: red_wine_data의 citric acid 변수의 평균이 귀무 가설 평균(5)과 통계적으로 유의미한 차이가 없다. \n",
    "# 대립가설: 통계적으로 유의미한 차이가 있다. "
   ]
  },
  {
   "cell_type": "code",
   "execution_count": 11,
   "id": "55248fa3-cd97-419a-9160-36209e4e16a1",
   "metadata": {
    "tags": []
   },
   "outputs": [
    {
     "name": "stdout",
     "output_type": "stream",
     "text": [
      "One-Sample t-Test for Red Wine:\n",
      "T-statistic: -970.7430669265271\n",
      "P-value: 0.0\n"
     ]
    }
   ],
   "source": [
    "# 1) 검정할 변수를 지정하세요. \n",
    "variable_of_interest_red = red_wine_data['citric acid']\n",
    "\n",
    "# One-Sample t-Test\n",
    "# 2) alpha라는 변수에 신뢰도 95%의 유의수준을 지정하세요.\n",
    "alpha = 0.05\n",
    "\n",
    "null_hypothesis_mean = 5  # 귀무가설 평균\n",
    "t_statistic, p_value = ttest_1samp(variable_of_interest_red, null_hypothesis_mean)\n",
    "\n",
    "print(\"One-Sample t-Test for Red Wine:\")\n",
    "print(\"T-statistic:\", t_statistic)\n",
    "print(\"P-value:\", p_value)"
   ]
  },
  {
   "cell_type": "code",
   "execution_count": 12,
   "id": "299cdc53-7925-4861-a302-e868ba4aa725",
   "metadata": {
    "tags": []
   },
   "outputs": [
    {
     "name": "stdout",
     "output_type": "stream",
     "text": [
      "Critical Value: 1.9614496156420809\n",
      "귀무가설 (기각한다). 통계적으로 유의미한 (차이)가 있다.\n"
     ]
    }
   ],
   "source": [
    "# Degrees of freedom (df) for a one-sample t-test is (n - 1), where n is the sample size\n",
    "df = len(variable_of_interest_red) - 1\n",
    "\n",
    "# Find the critical value for a two-tailed test\n",
    "critical_value = stats.t.ppf(1 - alpha/2, df)\n",
    "print(\"Critical Value:\", critical_value)\n",
    "\n",
    "# 3) 아래 문장을 완성하세요. \n",
    "if p_value < alpha:\n",
    "    print(\"귀무가설 (기각한다). 통계적으로 유의미한 (차이)가 있다.\")\n",
    "else:\n",
    "    print(\"귀무가설 (기각할 수 없다). 통계적으로 유의미한 (차이)가 없다.\")"
   ]
  },
  {
   "cell_type": "markdown",
   "id": "1022193d-ca29-4940-974c-7bfc423cee87",
   "metadata": {},
   "source": [
    "# 2. two-sample t-test 검정"
   ]
  },
  {
   "cell_type": "code",
   "execution_count": 15,
   "id": "db62f8ce-88eb-416c-99a9-db2a1bbb1e49",
   "metadata": {
    "tags": []
   },
   "outputs": [
    {
     "name": "stdout",
     "output_type": "stream",
     "text": [
      "\n",
      "Two-Sample t-Test:\n",
      "T-statistic: -15.374954114170604\n",
      "P-value: 2.0037357017957886e-52\n"
     ]
    }
   ],
   "source": [
    "# 귀무가설: red_wine의 'citric acid' 변수와 white_wine의 'citric acid' 변수의 평균이 통계적으로 유의미한 차이가 없다. \n",
    "# 대립가설: 통계적으로 유의미한 차이가 있다. \n",
    "\n",
    "\n",
    "# 1) two-sample t-test를 수항하기 위한 라이브러리를 불러오세요. \n",
    "from scipy.stats import ttest_ind\n",
    "\n",
    "import scipy.stats as stats \n",
    "\n",
    "# Two-Sample t-Test\n",
    "# 2) 적합한 변수를 지정하세요. \n",
    "variable_of_interest_red = red_wine_data['citric acid']\n",
    "variable_of_interest_white = white_wine_data['citric acid']\n",
    "\n",
    "t_statistic, p_value = ttest_ind(variable_of_interest_red, variable_of_interest_white)\n",
    "print(\"\\nTwo-Sample t-Test:\")\n",
    "print(\"T-statistic:\", t_statistic)\n",
    "print(\"P-value:\", p_value)"
   ]
  },
  {
   "cell_type": "code",
   "execution_count": 16,
   "id": "b0135f0f-e4a3-45e1-8e8d-393b3f6cd0fb",
   "metadata": {
    "tags": []
   },
   "outputs": [
    {
     "name": "stdout",
     "output_type": "stream",
     "text": [
      "Critical Value: 2.576586487248215\n",
      "귀무가설 (기각한다). 통계적으로 유의미한 (차이)가 있다.\n"
     ]
    }
   ],
   "source": [
    "# 3) 신뢰도 99%의 유의수준을 지정하세요 \n",
    "alpha = 0.01\n",
    "\n",
    "# Degrees of freedom (df) for a two-sample t-test is (n1 + n2 - 2), where n1 and n2 are the sample sizes of the two groups\n",
    "df = len(variable_of_interest_red) + len(variable_of_interest_white) - 2\n",
    "\n",
    "# Find the critical value for a two-tailed test\n",
    "critical_value = stats.t.ppf(1 - alpha/2, df)\n",
    "print(\"Critical Value:\", critical_value)\n",
    "\n",
    "# 4) 아래 문장을 완성하세요. \n",
    "if p_value < alpha:\n",
    "    print(\"귀무가설 (기각한다). 통계적으로 유의미한 (차이)가 있다.\")\n",
    "else:\n",
    "    print(\"귀무가설 (기각하지 못 한다). 통계적으로 유의미한 (차이)가 없다.\")"
   ]
  },
  {
   "cell_type": "markdown",
   "id": "9ad81494-9d08-4898-9d0b-4facc2690c29",
   "metadata": {},
   "source": [
    "# 3. chi-square 검정"
   ]
  },
  {
   "cell_type": "code",
   "execution_count": 18,
   "id": "a17855d9-917c-405b-bc62-7046ae294537",
   "metadata": {
    "tags": []
   },
   "outputs": [],
   "source": [
    "# 데이터 로드\n",
    "\n",
    "# chi-square 검정 구현하기 \n",
    "# 귀무가설: red_wine의 'quality'와 white_wine의 'alcohol'이 연관성이 없다. \n",
    "\n",
    "import pandas as pd\n",
    "# 1) 카이제곱test를 수항하기 위한 라이브러리를 불러오세요. \n",
    "from scipy.stats import chi2_contingency"
   ]
  },
  {
   "cell_type": "code",
   "execution_count": 22,
   "id": "60623c20-5ee1-4629-b025-a7afc72c9855",
   "metadata": {
    "tags": []
   },
   "outputs": [
    {
     "name": "stdout",
     "output_type": "stream",
     "text": [
      "귀무가설 (기각). 통계적으로 유의미한 (차이)가 있다.\n"
     ]
    }
   ],
   "source": [
    "# Chi-Square Test\n",
    "\n",
    "# 2) pd.crosstab을 사용하여 검정할 변수를 contingency_table에 넣어 주세요.\n",
    "contingency_table = pd.crosstab(red_wine_data['quality'], red_wine_data['alcohol'])\n",
    "\n",
    "# 3) 카이제곱 검정을 구현해서 chi2, p_value를 구하고 출력(print)하세요.\n",
    "chi2, p_value, _, _ = chi2_contingency(contingency_table)\n",
    "\n",
    "# 4) alpha라는 변수에 신뢰도 90%의 유의확률(p-value)을 지정하세요.\n",
    "alpha = 0.1\n",
    "\n",
    "# 5) 아래 문장을 완성하세요. \n",
    "if p_value < alpha:\n",
    "    print(\"귀무가설 (기각). 통계적으로 유의미한 (차이)가 있다.\")\n",
    "else:\n",
    "    print(\"귀무가설 (기각하지 못 한다). 통계적으로 유의미한 (차이)가 없다.\")"
   ]
  },
  {
   "cell_type": "markdown",
   "id": "66971aec-313a-41ff-88d2-944ae86387be",
   "metadata": {},
   "source": [
    "# 4. 주어진 상황에 적합한 가설 검정 방법과 가설을 설정하고, 검정하세요."
   ]
  },
  {
   "cell_type": "code",
   "execution_count": 24,
   "id": "8c1539be-5db1-4237-ad1c-c447f80c46c0",
   "metadata": {
    "tags": []
   },
   "outputs": [],
   "source": [
    "# 1.레드 와인 회사에서는 보유한 와인의 fixed acidity가\n",
    "# 기준 미달 수치(5)보다 통계적으로 유의미한 차이로 높다는 것을 확인하고자 합니다."
   ]
  },
  {
   "cell_type": "code",
   "execution_count": 25,
   "id": "45a803af-f998-4543-b425-2fd26c94987e",
   "metadata": {
    "tags": []
   },
   "outputs": [],
   "source": [
    "# one-sample t test"
   ]
  },
  {
   "cell_type": "code",
   "execution_count": 26,
   "id": "21d415a3-0c64-4f84-a2ef-e3d67ccda531",
   "metadata": {
    "tags": []
   },
   "outputs": [
    {
     "name": "stdout",
     "output_type": "stream",
     "text": [
      "One-Sample t-Test for Red Wine:\n",
      "T-statistic: 76.24161144799285\n",
      "P-value: 0.0\n"
     ]
    }
   ],
   "source": [
    "# 1) 검정할 변수를 지정하세요. \n",
    "variable_of_interest_red = red_wine_data['fixed acidity']\n",
    "\n",
    "# One-Sample t-Test\n",
    "# 2) alpha라는 변수에 신뢰도 95%의 유의수준을 지정하세요.\n",
    "alpha = 0.05\n",
    "\n",
    "null_hypothesis_mean = 5  # 귀무가설 평균\n",
    "t_statistic, p_value = ttest_1samp(variable_of_interest_red, null_hypothesis_mean)\n",
    "\n",
    "print(\"One-Sample t-Test for Red Wine:\")\n",
    "print(\"T-statistic:\", t_statistic)\n",
    "print(\"P-value:\", p_value)"
   ]
  },
  {
   "cell_type": "code",
   "execution_count": 27,
   "id": "71d880be-74c3-4618-a52e-8d603609f953",
   "metadata": {
    "tags": []
   },
   "outputs": [
    {
     "name": "stdout",
     "output_type": "stream",
     "text": [
      "Critical Value: 1.9614496156420809\n",
      "귀무가설 (기각한다). 통계적으로 유의미한 (차이)가 있다.\n"
     ]
    }
   ],
   "source": [
    "# Degrees of freedom (df) for a one-sample t-test is (n - 1), where n is the sample size\n",
    "df = len(variable_of_interest_red) - 1\n",
    "\n",
    "# Find the critical value for a two-tailed test\n",
    "critical_value = stats.t.ppf(1 - alpha/2, df)\n",
    "print(\"Critical Value:\", critical_value)\n",
    "\n",
    "# 3) 아래 문장을 완성하세요. \n",
    "if p_value < alpha:\n",
    "    print(\"귀무가설 (기각한다). 통계적으로 유의미한 (차이)가 있다.\")\n",
    "else:\n",
    "    print(\"귀무가설 (기각할 수 없다). 통계적으로 유의미한 (차이)가 없다.\")"
   ]
  },
  {
   "cell_type": "markdown",
   "id": "4dee3244-743e-4ba9-bb8c-3457625b18d7",
   "metadata": {},
   "source": [
    "# 5. 주어진 상황에 적합한 가설 검정 방법과 가설을 설정하고, 검정하세요."
   ]
  },
  {
   "cell_type": "code",
   "execution_count": 53,
   "id": "cdb2b92c-58b1-4756-8c91-0ddfda987fdb",
   "metadata": {
    "tags": []
   },
   "outputs": [
    {
     "data": {
      "text/html": [
       "<div>\n",
       "<style scoped>\n",
       "    .dataframe tbody tr th:only-of-type {\n",
       "        vertical-align: middle;\n",
       "    }\n",
       "\n",
       "    .dataframe tbody tr th {\n",
       "        vertical-align: top;\n",
       "    }\n",
       "\n",
       "    .dataframe thead th {\n",
       "        text-align: right;\n",
       "    }\n",
       "</style>\n",
       "<table border=\"1\" class=\"dataframe\">\n",
       "  <thead>\n",
       "    <tr style=\"text-align: right;\">\n",
       "      <th></th>\n",
       "      <th>0</th>\n",
       "      <th>1</th>\n",
       "      <th>2</th>\n",
       "      <th>3</th>\n",
       "      <th>4</th>\n",
       "    </tr>\n",
       "  </thead>\n",
       "  <tbody>\n",
       "    <tr>\n",
       "      <th>id</th>\n",
       "      <td>1</td>\n",
       "      <td>2</td>\n",
       "      <td>3</td>\n",
       "      <td>4</td>\n",
       "      <td>5</td>\n",
       "    </tr>\n",
       "    <tr>\n",
       "      <th>Gender</th>\n",
       "      <td>Male</td>\n",
       "      <td>Male</td>\n",
       "      <td>Male</td>\n",
       "      <td>Male</td>\n",
       "      <td>Female</td>\n",
       "    </tr>\n",
       "    <tr>\n",
       "      <th>Age</th>\n",
       "      <td>44</td>\n",
       "      <td>76</td>\n",
       "      <td>47</td>\n",
       "      <td>21</td>\n",
       "      <td>29</td>\n",
       "    </tr>\n",
       "    <tr>\n",
       "      <th>Driving_License</th>\n",
       "      <td>1</td>\n",
       "      <td>1</td>\n",
       "      <td>1</td>\n",
       "      <td>1</td>\n",
       "      <td>1</td>\n",
       "    </tr>\n",
       "    <tr>\n",
       "      <th>Region_Code</th>\n",
       "      <td>28.0</td>\n",
       "      <td>3.0</td>\n",
       "      <td>28.0</td>\n",
       "      <td>11.0</td>\n",
       "      <td>41.0</td>\n",
       "    </tr>\n",
       "    <tr>\n",
       "      <th>Previously_Insured</th>\n",
       "      <td>0</td>\n",
       "      <td>0</td>\n",
       "      <td>0</td>\n",
       "      <td>1</td>\n",
       "      <td>1</td>\n",
       "    </tr>\n",
       "    <tr>\n",
       "      <th>Vehicle_Age</th>\n",
       "      <td>&gt; 2 Years</td>\n",
       "      <td>1-2 Year</td>\n",
       "      <td>&gt; 2 Years</td>\n",
       "      <td>&lt; 1 Year</td>\n",
       "      <td>&lt; 1 Year</td>\n",
       "    </tr>\n",
       "    <tr>\n",
       "      <th>Vehicle_Damage</th>\n",
       "      <td>Yes</td>\n",
       "      <td>No</td>\n",
       "      <td>Yes</td>\n",
       "      <td>No</td>\n",
       "      <td>No</td>\n",
       "    </tr>\n",
       "    <tr>\n",
       "      <th>Annual_Premium</th>\n",
       "      <td>40454.0</td>\n",
       "      <td>33536.0</td>\n",
       "      <td>38294.0</td>\n",
       "      <td>28619.0</td>\n",
       "      <td>27496.0</td>\n",
       "    </tr>\n",
       "    <tr>\n",
       "      <th>Policy_Sales_Channel</th>\n",
       "      <td>26.0</td>\n",
       "      <td>26.0</td>\n",
       "      <td>26.0</td>\n",
       "      <td>152.0</td>\n",
       "      <td>152.0</td>\n",
       "    </tr>\n",
       "    <tr>\n",
       "      <th>Vintage</th>\n",
       "      <td>217</td>\n",
       "      <td>183</td>\n",
       "      <td>27</td>\n",
       "      <td>203</td>\n",
       "      <td>39</td>\n",
       "    </tr>\n",
       "    <tr>\n",
       "      <th>Response</th>\n",
       "      <td>1</td>\n",
       "      <td>0</td>\n",
       "      <td>1</td>\n",
       "      <td>0</td>\n",
       "      <td>0</td>\n",
       "    </tr>\n",
       "  </tbody>\n",
       "</table>\n",
       "</div>"
      ],
      "text/plain": [
       "                              0         1          2         3         4\n",
       "id                            1         2          3         4         5\n",
       "Gender                     Male      Male       Male      Male    Female\n",
       "Age                          44        76         47        21        29\n",
       "Driving_License               1         1          1         1         1\n",
       "Region_Code                28.0       3.0       28.0      11.0      41.0\n",
       "Previously_Insured            0         0          0         1         1\n",
       "Vehicle_Age           > 2 Years  1-2 Year  > 2 Years  < 1 Year  < 1 Year\n",
       "Vehicle_Damage              Yes        No        Yes        No        No\n",
       "Annual_Premium          40454.0   33536.0    38294.0   28619.0   27496.0\n",
       "Policy_Sales_Channel       26.0      26.0       26.0     152.0     152.0\n",
       "Vintage                     217       183         27       203        39\n",
       "Response                      1         0          1         0         0"
      ]
     },
     "execution_count": 53,
     "metadata": {},
     "output_type": "execute_result"
    }
   ],
   "source": [
    "import pandas as pd \n",
    "insurance_df = pd.read_csv(r'C:\\Users\\BIG3-02\\Documents\\archive\\train.csv')\n",
    "insurance_df.head().T"
   ]
  },
  {
   "cell_type": "code",
   "execution_count": 59,
   "id": "701b2f23-c68f-4ffc-b0b7-dc31c8f178ce",
   "metadata": {
    "tags": []
   },
   "outputs": [],
   "source": [
    "# 귀무가설 : 기존에 자동차 보험을 보유한 변수와 신규 자동차 보험에 대한\n",
    "#            긍정적인 관심 여부에 연관성이 없다.\n",
    "# 대립가설 : ~~ 연관성이 있다."
   ]
  },
  {
   "cell_type": "code",
   "execution_count": 54,
   "id": "80ecb7f4-82b3-4100-b482-cfdefed0e375",
   "metadata": {
    "tags": []
   },
   "outputs": [
    {
     "name": "stdout",
     "output_type": "stream",
     "text": [
      "귀무가설 (기각). 통계적으로 유의미한 (차이)가 있다.\n"
     ]
    }
   ],
   "source": [
    "# 2) pd.crosstab을 사용하여 검정할 변수를 contingency_table에 넣어 주세요.\n",
    "contingency_table = pd.crosstab(insurance_df['Previously_Insured'], insurance_df['Response'])\n",
    "\n",
    "# 3) 카이제곱 검정을 구현해서 chi2, p_value를 구하고 출력(print)하세요.\n",
    "chi2, p_value, _, _ = chi2_contingency(contingency_table)\n",
    "\n",
    "# 4) alpha라는 변수에 신뢰도 90%의 유의확률(p-value)을 지정하세요.\n",
    "alpha = 0.05\n",
    "\n",
    "# 5) 아래 문장을 완성하세요. \n",
    "if p_value < alpha:\n",
    "    print(\"귀무가설 (기각). 통계적으로 유의미한 (차이)가 있다.\")\n",
    "else:\n",
    "    print(\"귀무가설 (기각하지 못 한다). 통계적으로 유의미한 (차이)가 없다.\")"
   ]
  },
  {
   "cell_type": "markdown",
   "id": "3c301c2d-6d57-4471-b17a-2a930d301d94",
   "metadata": {},
   "source": [
    "# 6. 주어진 상황에 적합한 가설 검정 방법과 가설을 설정하고, 검정하세요."
   ]
  },
  {
   "cell_type": "code",
   "execution_count": 31,
   "id": "b6ee9b01-c269-4428-bb0b-80bebf054b23",
   "metadata": {
    "tags": []
   },
   "outputs": [
    {
     "data": {
      "text/html": [
       "<div>\n",
       "<style scoped>\n",
       "    .dataframe tbody tr th:only-of-type {\n",
       "        vertical-align: middle;\n",
       "    }\n",
       "\n",
       "    .dataframe tbody tr th {\n",
       "        vertical-align: top;\n",
       "    }\n",
       "\n",
       "    .dataframe thead th {\n",
       "        text-align: right;\n",
       "    }\n",
       "</style>\n",
       "<table border=\"1\" class=\"dataframe\">\n",
       "  <thead>\n",
       "    <tr style=\"text-align: right;\">\n",
       "      <th></th>\n",
       "      <th>0</th>\n",
       "      <th>1</th>\n",
       "      <th>2</th>\n",
       "      <th>3</th>\n",
       "      <th>4</th>\n",
       "    </tr>\n",
       "  </thead>\n",
       "  <tbody>\n",
       "    <tr>\n",
       "      <th>age</th>\n",
       "      <td>30</td>\n",
       "      <td>33</td>\n",
       "      <td>35</td>\n",
       "      <td>30</td>\n",
       "      <td>59</td>\n",
       "    </tr>\n",
       "    <tr>\n",
       "      <th>job</th>\n",
       "      <td>unemployed</td>\n",
       "      <td>services</td>\n",
       "      <td>management</td>\n",
       "      <td>management</td>\n",
       "      <td>blue-collar</td>\n",
       "    </tr>\n",
       "    <tr>\n",
       "      <th>marital</th>\n",
       "      <td>married</td>\n",
       "      <td>married</td>\n",
       "      <td>single</td>\n",
       "      <td>married</td>\n",
       "      <td>married</td>\n",
       "    </tr>\n",
       "    <tr>\n",
       "      <th>education</th>\n",
       "      <td>primary</td>\n",
       "      <td>secondary</td>\n",
       "      <td>tertiary</td>\n",
       "      <td>tertiary</td>\n",
       "      <td>secondary</td>\n",
       "    </tr>\n",
       "    <tr>\n",
       "      <th>default</th>\n",
       "      <td>no</td>\n",
       "      <td>no</td>\n",
       "      <td>no</td>\n",
       "      <td>no</td>\n",
       "      <td>no</td>\n",
       "    </tr>\n",
       "    <tr>\n",
       "      <th>balance</th>\n",
       "      <td>1787</td>\n",
       "      <td>4789</td>\n",
       "      <td>1350</td>\n",
       "      <td>1476</td>\n",
       "      <td>0</td>\n",
       "    </tr>\n",
       "    <tr>\n",
       "      <th>housing</th>\n",
       "      <td>no</td>\n",
       "      <td>yes</td>\n",
       "      <td>yes</td>\n",
       "      <td>yes</td>\n",
       "      <td>yes</td>\n",
       "    </tr>\n",
       "    <tr>\n",
       "      <th>loan</th>\n",
       "      <td>no</td>\n",
       "      <td>yes</td>\n",
       "      <td>no</td>\n",
       "      <td>yes</td>\n",
       "      <td>no</td>\n",
       "    </tr>\n",
       "    <tr>\n",
       "      <th>contact</th>\n",
       "      <td>cellular</td>\n",
       "      <td>cellular</td>\n",
       "      <td>cellular</td>\n",
       "      <td>unknown</td>\n",
       "      <td>unknown</td>\n",
       "    </tr>\n",
       "    <tr>\n",
       "      <th>day</th>\n",
       "      <td>19</td>\n",
       "      <td>11</td>\n",
       "      <td>16</td>\n",
       "      <td>3</td>\n",
       "      <td>5</td>\n",
       "    </tr>\n",
       "    <tr>\n",
       "      <th>month</th>\n",
       "      <td>oct</td>\n",
       "      <td>may</td>\n",
       "      <td>apr</td>\n",
       "      <td>jun</td>\n",
       "      <td>may</td>\n",
       "    </tr>\n",
       "    <tr>\n",
       "      <th>duration</th>\n",
       "      <td>79</td>\n",
       "      <td>220</td>\n",
       "      <td>185</td>\n",
       "      <td>199</td>\n",
       "      <td>226</td>\n",
       "    </tr>\n",
       "    <tr>\n",
       "      <th>campaign</th>\n",
       "      <td>1</td>\n",
       "      <td>1</td>\n",
       "      <td>1</td>\n",
       "      <td>4</td>\n",
       "      <td>1</td>\n",
       "    </tr>\n",
       "    <tr>\n",
       "      <th>pdays</th>\n",
       "      <td>-1</td>\n",
       "      <td>339</td>\n",
       "      <td>330</td>\n",
       "      <td>-1</td>\n",
       "      <td>-1</td>\n",
       "    </tr>\n",
       "    <tr>\n",
       "      <th>previous</th>\n",
       "      <td>0</td>\n",
       "      <td>4</td>\n",
       "      <td>1</td>\n",
       "      <td>0</td>\n",
       "      <td>0</td>\n",
       "    </tr>\n",
       "    <tr>\n",
       "      <th>poutcome</th>\n",
       "      <td>unknown</td>\n",
       "      <td>failure</td>\n",
       "      <td>failure</td>\n",
       "      <td>unknown</td>\n",
       "      <td>unknown</td>\n",
       "    </tr>\n",
       "    <tr>\n",
       "      <th>y</th>\n",
       "      <td>no</td>\n",
       "      <td>no</td>\n",
       "      <td>no</td>\n",
       "      <td>no</td>\n",
       "      <td>no</td>\n",
       "    </tr>\n",
       "  </tbody>\n",
       "</table>\n",
       "</div>"
      ],
      "text/plain": [
       "                    0          1           2           3            4\n",
       "age                30         33          35          30           59\n",
       "job        unemployed   services  management  management  blue-collar\n",
       "marital       married    married      single     married      married\n",
       "education     primary  secondary    tertiary    tertiary    secondary\n",
       "default            no         no          no          no           no\n",
       "balance          1787       4789        1350        1476            0\n",
       "housing            no        yes         yes         yes          yes\n",
       "loan               no        yes          no         yes           no\n",
       "contact      cellular   cellular    cellular     unknown      unknown\n",
       "day                19         11          16           3            5\n",
       "month             oct        may         apr         jun          may\n",
       "duration           79        220         185         199          226\n",
       "campaign            1          1           1           4            1\n",
       "pdays              -1        339         330          -1           -1\n",
       "previous            0          4           1           0            0\n",
       "poutcome      unknown    failure     failure     unknown      unknown\n",
       "y                  no         no          no          no           no"
      ]
     },
     "execution_count": 31,
     "metadata": {},
     "output_type": "execute_result"
    }
   ],
   "source": [
    " import pandas as pd \n",
    "bank = pd.read_csv(r'C:\\Users\\BIG3-02\\Downloads\\bank+marketing\\bank\\bank.csv', sep=';')\n",
    "bank.head().T"
   ]
  },
  {
   "cell_type": "code",
   "execution_count": 60,
   "id": "a5d93016-7622-428b-84b9-fd8b14c0c7e2",
   "metadata": {
    "tags": []
   },
   "outputs": [],
   "source": [
    "# 카이스케어 검정\n",
    "# 귀무가설 : 직업과 신용 뷸량간의 연관성이 없다.\n",
    "# 대립가설 : ~~ 연관성이 있다."
   ]
  },
  {
   "cell_type": "code",
   "execution_count": 36,
   "id": "054911fc-5f49-44d6-8065-b83a28cf709c",
   "metadata": {
    "tags": []
   },
   "outputs": [
    {
     "name": "stdout",
     "output_type": "stream",
     "text": [
      "귀무가설 (기각하지 못 한다). 통계적으로 유의미한 (차이)가 없다.\n"
     ]
    }
   ],
   "source": [
    "# 2) pd.crosstab을 사용하여 검정할 변수를 contingency_table에 넣어 주세요.\n",
    "contingency_table = pd.crosstab(bank['job'], bank['default'])\n",
    "\n",
    "# 3) 카이제곱 검정을 구현해서 chi2, p_value를 구하고 출력(print)하세요.\n",
    "chi2, p_value, _, _ = chi2_contingency(contingency_table)\n",
    "\n",
    "# 4) alpha라는 변수에 신뢰도 90%의 유의확률(p-value)을 지정하세요.\n",
    "alpha = 0.05\n",
    "\n",
    "# 5) 아래 문장을 완성하세요. \n",
    "if p_value < alpha:\n",
    "    print(\"귀무가설 (기각). 통계적으로 유의미한 (차이)가 있다.\")\n",
    "else:\n",
    "    print(\"귀무가설 (기각하지 못 한다). 통계적으로 유의미한 (차이)가 없다.\")"
   ]
  },
  {
   "cell_type": "markdown",
   "id": "0fc58ee3-3207-4d15-a898-cfaf615a92aa",
   "metadata": {},
   "source": [
    "# 7. 주어진 상황에 적합한 가설 검정 방법과 가설을 설정하고, 검정하세요."
   ]
  },
  {
   "cell_type": "code",
   "execution_count": 37,
   "id": "5dc0ff1e-590e-4572-a942-731e55262a9a",
   "metadata": {
    "tags": []
   },
   "outputs": [],
   "source": [
    "# 투샘플 티테스트"
   ]
  },
  {
   "cell_type": "code",
   "execution_count": 41,
   "id": "02f6dba2-38ca-4cd1-9039-d0dec8d87d4f",
   "metadata": {
    "tags": []
   },
   "outputs": [
    {
     "name": "stdout",
     "output_type": "stream",
     "text": [
      "\n",
      "Two-Sample t-Test:\n",
      "T-statistic: 318.686273733704\n",
      "P-value: 0.0\n"
     ]
    }
   ],
   "source": [
    "# Two-Sample t-Test\n",
    "# 2) 적합한 변수를 지정하세요. \n",
    "variable_of_interest_married = bank[bank['marital']=='married']['balance']\n",
    "variable_of_interest_single = bank[bank['marital']=='single']['balance']\n",
    "\n",
    "t_statistic, p_value = ttest_ind(variable_of_interest_red, variable_of_interest_white)\n",
    "print(\"\\nTwo-Sample t-Test:\")\n",
    "print(\"T-statistic:\", t_statistic)\n",
    "print(\"P-value:\", p_value)"
   ]
  },
  {
   "cell_type": "code",
   "execution_count": 42,
   "id": "32e16d17-683a-4522-bff1-424c15e2d7b4",
   "metadata": {
    "tags": []
   },
   "outputs": [
    {
     "name": "stdout",
     "output_type": "stream",
     "text": [
      "Critical Value: 1.9605585670022625\n",
      "귀무가설 (기각한다). 통계적으로 유의미한 (차이)가 있다.\n"
     ]
    }
   ],
   "source": [
    "alpha = 0.05\n",
    "\n",
    "# Degrees of freedom (df) for a two-sample t-test is (n1 + n2 - 2), where n1 and n2 are the sample sizes of the two groups\n",
    "df = len(variable_of_interest_married) + len(variable_of_interest_single) - 2\n",
    "\n",
    "# Find the critical value for a two-tailed test\n",
    "critical_value = stats.t.ppf(1 - alpha/2, df)\n",
    "print(\"Critical Value:\", critical_value)\n",
    "\n",
    "# 4) 아래 문장을 완성하세요. \n",
    "if p_value < alpha:\n",
    "    print(\"귀무가설 (기각한다). 통계적으로 유의미한 (차이)가 있다.\")\n",
    "else:\n",
    "    print(\"귀무가설 (기각하지 못 한다). 통계적으로 유의미한 (차이)가 없다.\")"
   ]
  },
  {
   "cell_type": "code",
   "execution_count": 61,
   "id": "61d04500-e460-40c3-b804-532e2286734a",
   "metadata": {
    "tags": []
   },
   "outputs": [],
   "source": [
    "# 귀무가설 : 결혼한 고객과 싱글인 고객그룹의 연평균 은행잔고 평균에 차이가 없다.\n",
    "# 대립가설 : ~~ 차이가 있다."
   ]
  },
  {
   "cell_type": "code",
   "execution_count": 43,
   "id": "a50a7b20-425f-4eba-853e-4c58f8d4d926",
   "metadata": {
    "tags": []
   },
   "outputs": [],
   "source": [
    "# 결과 : P-value가 0.0으로 귀무가설을 기각한다. 즉, \n",
    "# A은행에서는 결혼한 고객과 싱글인 고객그룹의 연평균 은행잔고 차이가 있다.\n",
    "# T-statistic: 318.686273733704 결과 아주 강한 양의 관계에 있다."
   ]
  }
 ],
 "metadata": {
  "kernelspec": {
   "display_name": "Python 3 (ipykernel)",
   "language": "python",
   "name": "python3"
  },
  "language_info": {
   "codemirror_mode": {
    "name": "ipython",
    "version": 3
   },
   "file_extension": ".py",
   "mimetype": "text/x-python",
   "name": "python",
   "nbconvert_exporter": "python",
   "pygments_lexer": "ipython3",
   "version": "3.11.5"
  }
 },
 "nbformat": 4,
 "nbformat_minor": 5
}
